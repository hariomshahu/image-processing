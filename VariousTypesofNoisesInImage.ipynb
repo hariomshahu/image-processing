{
  "nbformat": 4,
  "nbformat_minor": 0,
  "metadata": {
    "colab": {
      "provenance": [],
      "authorship_tag": "ABX9TyMlH/9SasTueb1FgwwU0Cwo",
      "include_colab_link": true
    },
    "kernelspec": {
      "name": "python3",
      "display_name": "Python 3"
    },
    "language_info": {
      "name": "python"
    }
  },
  "cells": [
    {
      "cell_type": "markdown",
      "metadata": {
        "id": "view-in-github",
        "colab_type": "text"
      },
      "source": [
        "<a href=\"https://colab.research.google.com/github/hariomshahu/image-processing/blob/main/VariousTypesofNoisesInImage.ipynb\" target=\"_parent\"><img src=\"https://colab.research.google.com/assets/colab-badge.svg\" alt=\"Open In Colab\"/></a>"
      ]
    },
    {
      "cell_type": "markdown",
      "source": [
        "# Types of Noise\n",
        "Independent noise and dependent noise refer to different characteristics of noise in signal processing, including image processing.\n",
        "\n",
        "1. **Independent Noise:**\n",
        "  * Independent noise, also known as additive noise, refers to noise where the variations at different points in the signal (or image) are statistically independent of each other.\n",
        "  * In the context of images, independent noise affects each pixel independently of its neighboring pixels.\n",
        "  * Examples of independent noise include Gaussian noise and salt-and-pepper noise.\n",
        "  * Independent noise is often easier to model and remove because each noise component can be treated separately.\n",
        "2. **Dependent Noise:**\n",
        "  * Dependent noise, also known as multiplicative noise or spatially correlated noise, refers to noise where the variations at different points in the signal (or image) are statistically dependent on each other.\n",
        "  * In the context of images, dependent noise means that the noise in one pixel is related to the noise in its neighboring pixels. This can result in patterns or structures in the noise.\n",
        "  * Examples of dependent noise include speckle noise, which is commonly observed in ultrasound or radar images, and compression artifacts in images.\n",
        "  * Dependent noise is often more challenging to model and remove because it requires considering the relationships between neighboring pixels."
      ],
      "metadata": {
        "id": "Xvd2v5hqV5NI"
      }
    },
    {
      "cell_type": "markdown",
      "source": [
        "# Types of Filters to remove Noise:\n",
        "* Frequency domain filters and spatial domain filters are two broad categories of filters used to address independent noise in images:\n",
        "\n",
        "1. **Frequency Domain Filters:**\n",
        "  * Frequency domain filtering involves transforming the image from the spatial domain to the frequency domain using techniques like the Fast Fourier Transform (FFT).\n",
        "  * In the frequency domain, noise often occupies different frequency components than the desired image features, allowing for targeted filtering.\n",
        "  * Common frequency domain filters include:\n",
        "    1. **Low-pass filters:** These filters allow low-frequency components (smooth areas) to pass through while attenuating high-frequency components (noise). They are effective for removing Gaussian noise.\n",
        "    2. **High-pass filters:** These filters attenuate low-frequency components (smooth areas) while allowing high-frequency components (edges and noise) to pass through. They can be useful for enhancing edges or removing low-frequency noise.\n",
        "    3. **Band-pass filters:** These filters selectively pass a range of frequencies while attenuating frequencies outside this range. They are useful for targeting specific noise frequencies.\n",
        "    4. **Notch filters:** These filters suppress specific frequencies or narrow bands of frequencies, which can be helpful for removing periodic noise or interference.\n",
        "  * After filtering in the frequency domain, the image can be transformed back to the spatial domain using the inverse FFT.\n",
        "\n",
        "2. **Spatial Domain Filters:**\n",
        "  * Spatial domain filtering involves directly processing the image in its original spatial domain without transforming it.\n",
        "  * These filters typically operate on small neighborhoods of pixels and can be linear or non-linear.\n",
        "  * Common spatial domain filters include:\n",
        "    1. **Mean filter:** Replaces each pixel's value with the average value of its neighborhood. Effective for reducing Gaussian noise but can blur edges.\n",
        "    2. **Median filter:** Replaces each pixel's value with the median value of its neighborhood. Effective for removing impulse noise (salt-and-pepper) while preserving edges.\n",
        "    3. **Gaussian filter:** Smooths the image by convolving it with a Gaussian kernel. Effective for reducing Gaussian noise.\n",
        "    4. **Anisotropic diffusion:** A non-linear technique that diffuses noise while preserving edges by adjusting the diffusion process based on local image gradients.\n",
        "    5. **Adaptive Median Filter:**\n",
        "      * The adaptive median filter is an extension of the median filter that dynamically adjusts the size of the filtering window based on the local characteristics of the image.\n",
        "      * It starts with a small window size and gradually increases the size until a suitable median can be found.\n",
        "      * This filter is particularly effective for removing impulse noise (salt-and-pepper noise) while preserving image details, especially in areas with varying levels of noise.\n",
        "    6. **Bilateral Filter:**\n",
        "      * The bilateral filter is a non-linear filter that simultaneously considers spatial and intensity information when filtering an image.\n",
        "      * It smooths the image by averaging pixel values within a neighborhood, but it also takes into account the difference in intensity between neighboring pixels.\n",
        "      * ***By considering both spatial closeness and intensity similarity, the bilateral filter preserves edges and fine details while reducing noise.***\n",
        "      * ***we will not use the same gaussian filter in the entire image, we will modify the kernal of the filter depending on local structure and pixel intensities of the neighbourhood pixels. we will modify the gaussian kernal, such that pixels not in similar intensity as the center pixel in the considered window size of the image, will receive lower weights.***\n",
        "      \n",
        "      * It is effective for removing Gaussian noise while preserving image details, making it particularly useful for tasks such as edge-preserving denoising and HDR tone mapping.\n",
        "\n",
        "* Both frequency domain and spatial domain filters have their strengths and weaknesses, and the choice of filter depends on factors such as the characteristics of the noise, the desired preservation of image details, and computational efficiency considerations."
      ],
      "metadata": {
        "id": "lbJtSda-Op9Z"
      }
    },
    {
      "cell_type": "code",
      "source": [],
      "metadata": {
        "id": "KVZN-Fh4OpJE"
      },
      "execution_count": null,
      "outputs": []
    },
    {
      "cell_type": "code",
      "execution_count": null,
      "metadata": {
        "id": "f0dWGmFUI8rg"
      },
      "outputs": [],
      "source": []
    }
  ]
}